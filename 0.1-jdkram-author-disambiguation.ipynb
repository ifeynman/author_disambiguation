{
 "cells": [
  {
   "cell_type": "markdown",
   "metadata": {},
   "source": [
    "# Author disambiguation"
   ]
  },
  {
   "cell_type": "markdown",
   "metadata": {},
   "source": [
    "Find a way of performing fuzzy matches across authors.\n",
    "\n",
    "Input:\n",
    "\n",
    "- Spreadsheet or CSV which contains a single column of authors per publication, typically with a \"; \" separator\n",
    "\n",
    "Output:\n",
    "\n",
    "- List of name pairings with fuzzy scores\n",
    "- List of name families with a primary name, so that a substitution of auxiliary names can be performed"
   ]
  },
  {
   "cell_type": "markdown",
   "metadata": {},
   "source": [
    "This ended up being an interesting look in to the performance of combinatory tasks, and as such pulls in a bunch of extra libraries as part of that curiosity-driven exploration as I figured things out along the way."
   ]
  },
  {
   "cell_type": "markdown",
   "metadata": {},
   "source": [
    "### To do list\n",
    "\n",
    "- [x] Download sample file\n",
    "- [x] Load in sample file\n",
    "- [x] Research maths of number of combos to estimate big O \n",
    "- [x] Create first pass of code for generating pairs, all that jazz\n",
    "- [x] Wrap up code to date as functions, considering possible args for customisation\n",
    "- [x] Alter author list splitter to optionally produce table of first, last authors\n",
    "- [ ] Save pair scores to Excel for manual vetting, perhaps add in column for manual decisions\n",
    "- [ ] Load up manual results from Excel\n",
    "- [ ] Create families of names for substitutions (might involve some nasty loops)\n",
    "- [ ] Take original list of RCRs, spin out RCR <-> author rows\n",
    "- [ ] Substitute secondary names with primary\n",
    "- [ ] Perform aggregrations based on cleansed primary names\n"
   ]
  },
  {
   "cell_type": "markdown",
   "metadata": {},
   "source": [
    "## Imports and config"
   ]
  },
  {
   "cell_type": "code",
   "execution_count": 1,
   "metadata": {
    "ExecuteTime": {
     "end_time": "2018-09-30T17:44:08.472523Z",
     "start_time": "2018-09-30T17:44:07.174959Z"
    }
   },
   "outputs": [],
   "source": [
    "import os\n",
    "import openpyxl\n",
    "import functools\n",
    "import matplotlib\n",
    "import math\n",
    "import operator as op\n",
    "import pandas as pd\n",
    "\n",
    "from fuzzywuzzy import fuzz\n",
    "from fuzzywuzzy import process"
   ]
  },
  {
   "cell_type": "markdown",
   "metadata": {},
   "source": [
    "Note that in this pipenv environment python-Levenshtein is installed, so fuzzywuzzy should be more performant and not flag warnings about speed."
   ]
  },
  {
   "cell_type": "code",
   "execution_count": 2,
   "metadata": {
    "ExecuteTime": {
     "end_time": "2018-09-30T17:44:08.848430Z",
     "start_time": "2018-09-30T17:44:08.477306Z"
    }
   },
   "outputs": [],
   "source": [
    "%matplotlib inline"
   ]
  },
  {
   "cell_type": "code",
   "execution_count": 3,
   "metadata": {
    "ExecuteTime": {
     "end_time": "2018-09-30T17:44:08.859241Z",
     "start_time": "2018-09-30T17:44:08.853817Z"
    }
   },
   "outputs": [],
   "source": [
    "DATA_DIR = os.path.join(\".\", \"data\")"
   ]
  },
  {
   "cell_type": "markdown",
   "metadata": {},
   "source": [
    "## Get sample author names"
   ]
  },
  {
   "cell_type": "code",
   "execution_count": 4,
   "metadata": {
    "ExecuteTime": {
     "end_time": "2018-09-30T17:44:08.879979Z",
     "start_time": "2018-09-30T17:44:08.865216Z"
    }
   },
   "outputs": [
    {
     "data": {
      "text/plain": [
       "['sample_pubs.csv']"
      ]
     },
     "execution_count": 4,
     "metadata": {},
     "output_type": "execute_result"
    }
   ],
   "source": [
    "os.listdir(DATA_DIR)"
   ]
  },
  {
   "cell_type": "code",
   "execution_count": 5,
   "metadata": {
    "ExecuteTime": {
     "end_time": "2018-09-30T17:44:08.892986Z",
     "start_time": "2018-09-30T17:44:08.885433Z"
    }
   },
   "outputs": [],
   "source": [
    "# Old spreadsheet version - left in for reference if wanting to read XLSX files\n",
    "# spreadsheet = pd.read_excel('top_1pc_pubs.xslx', sheet_name='12-16 top 1%')\n",
    "# author_lists = spreadsheet['Authors']\n",
    "# author_lists = author_lists.str.split(\"; \")"
   ]
  },
  {
   "cell_type": "code",
   "execution_count": 6,
   "metadata": {
    "ExecuteTime": {
     "end_time": "2018-09-30T17:44:08.938489Z",
     "start_time": "2018-09-30T17:44:08.899638Z"
    }
   },
   "outputs": [],
   "source": [
    "file_path = os.path.join(DATA_DIR, 'sample_pubs.csv')\n",
    "sample_pubs = pd.read_csv(file_path, index_col='PMID', encoding='latin1')\n",
    "author_lists = sample_pubs['Authors']\n",
    "author_lists = author_lists.str.split(\"; \")"
   ]
  },
  {
   "cell_type": "code",
   "execution_count": 7,
   "metadata": {
    "ExecuteTime": {
     "end_time": "2018-09-30T17:44:08.952315Z",
     "start_time": "2018-09-30T17:44:08.942254Z"
    }
   },
   "outputs": [
    {
     "data": {
      "text/plain": [
       "pandas.core.series.Series"
      ]
     },
     "execution_count": 7,
     "metadata": {},
     "output_type": "execute_result"
    }
   ],
   "source": [
    "type(author_lists)"
   ]
  },
  {
   "cell_type": "code",
   "execution_count": 8,
   "metadata": {
    "ExecuteTime": {
     "end_time": "2018-09-30T17:44:09.012495Z",
     "start_time": "2018-09-30T17:44:08.958267Z"
    }
   },
   "outputs": [
    {
     "data": {
      "text/plain": [
       "{'Seth Flaxman',\n",
       " 'Rahul Gupta',\n",
       " 'Stalin E Ewoigbokhan',\n",
       " 'Richard Humbert',\n",
       " 'Shih-Yi Lin',\n",
       " 'Darren Ware',\n",
       " 'Jordana T. Bell',\n",
       " 'Janet Seeley',\n",
       " 'Francesca Demarchi',\n",
       " 'Catherine Snow',\n",
       " 'Jia Fan',\n",
       " 'Tino Kurz',\n",
       " 'Craig M Walsh',\n",
       " 'Lina Keller',\n",
       " 'Thomas Gasser',\n",
       " 'Yoshitaka Takano',\n",
       " 'Kristen Lee',\n",
       " 'A. Patricia Bento',\n",
       " 'T. Tukiainen',\n",
       " 'Shih-Hwa Chiou',\n",
       " 'John Kent Lin',\n",
       " 'M E Peter',\n",
       " 'Zeb Haradon',\n",
       " 'Mohammad A Almazroa',\n",
       " 'Sarah Tosato',\n",
       " 'Christine M. Freitag',\n",
       " 'Razibuzzaman Shah',\n",
       " 'Faris H Al Lami',\n",
       " 'Nadine Steckling',\n",
       " 'Gilbert S Omenn',\n",
       " 'G\\x9fnter Raddatz',\n",
       " 'Madeline A. Lancaster',\n",
       " 'Christian Kieling',\n",
       " 'David H Kessel',\n",
       " 'Anthony O. Shafer',\n",
       " 'Marcus D\\x9arr',\n",
       " 'J-C Martinou',\n",
       " 'S. Morin',\n",
       " 'Ejaz A Khan',\n",
       " 'Antoni Ribas',\n",
       " 'Vasco Manuel Pedro Machado',\n",
       " 'Nicole C Lockhart',\n",
       " 'Deborah A. Nickerson',\n",
       " 'Karin Fransen',\n",
       " 'Ida Surakka',\n",
       " 'M.L. Andermann',\n",
       " 'Vinay Nangia',\n",
       " 'Simon Brent',\n",
       " 'Christopher A. Walsh',\n",
       " 'E Filipa de Castro',\n",
       " 'Julien E. Gautrot',\n",
       " 'Christopher S. Poultney',\n",
       " 'Alexei J. Drummond',\n",
       " 'Gemma Phillips',\n",
       " 'Berrin Serdar',\n",
       " 'Florian Mertes',\n",
       " 'Peter Graaff',\n",
       " 'Pablo Minguez',\n",
       " 'Raymond K. Auerbach',\n",
       " 'Angelo Tremblay',\n",
       " 'Gerard D. Schellenberg',\n",
       " 'Stephen Mok',\n",
       " 'Jorge Moscat',\n",
       " 'Norihiro Kato',\n",
       " 'Elaine H Shen',\n",
       " 'Kjell-Morten Myhr',\n",
       " 'Jaffar A. Al-Tawfiq',\n",
       " 'Barbara Wold',\n",
       " 'Marcus Fischer',\n",
       " 'Muhammed Islam',\n",
       " 'Ann Kristin Knudsen',\n",
       " 'Chris Jones',\n",
       " 'Zhengqing Ouyang',\n",
       " 'F Madeo',\n",
       " 'Frida N Ngalesoni',\n",
       " 'Tariku Jibat Beyene',\n",
       " 'Ian Jones',\n",
       " 'Hilary K Finucane',\n",
       " 'G. M. Cooper',\n",
       " 'Marco Mariotti',\n",
       " 'Karen Edmond',\n",
       " 'Theodore C. White',\n",
       " 'Joanna Harley',\n",
       " 'Selen B Uzun',\n",
       " 'Jennifer S Carew',\n",
       " 'Christof Koch',\n",
       " 'Jianjun Liu',\n",
       " 'Jurgita Sventoraityte',\n",
       " 'Ngo Viet Thanh',\n",
       " 'Nigel M Williams',\n",
       " 'Benjamin F. Voight',\n",
       " 'Tasara T Mazorodze',\n",
       " 'Hilary A Coller',\n",
       " 'Graeme R Clark',\n",
       " 'Sonali Pechlivanis',\n",
       " 'Thomas Neil Williams',\n",
       " 'Carol A Mercer',\n",
       " 'Joy T Boyer',\n",
       " 'R. Keira Cheetham',\n",
       " 'Gil A. McVean (Principal Investigator)',\n",
       " 'Tuuli Lappalainen',\n",
       " 'Hiromitsu Kanamori',\n",
       " 'James D Wilkinson',\n",
       " 'Bo Isomaa',\n",
       " 'B. Kelly',\n",
       " 'J. Tejada',\n",
       " 'Joseph Biederman',\n",
       " 'K Blomgren',\n",
       " 'Anthony J Bailey',\n",
       " 'Douglas M Ruderfer',\n",
       " 'Khalid Shakir',\n",
       " 'Daniel M B\\x8echet',\n",
       " 'David L Boone',\n",
       " 'Iuri da Costa Leite',\n",
       " 'John F Peden',\n",
       " 'Christina Willenborg',\n",
       " 'Ewa Deelman',\n",
       " 'Uwe V\\x9alker',\n",
       " 'Yurii S Aulchenko',\n",
       " 'Rodney J Devenish',\n",
       " 'Hagai Abeliovich',\n",
       " 'Kathryn H Jacobsen',\n",
       " 'M. Tendera',\n",
       " 'J. Zhu',\n",
       " 'Matthew Dunn',\n",
       " 'Sakoba K\\x8e\\x95ta',\n",
       " 'Pippa Griew',\n",
       " 'Bert Overduin',\n",
       " 'Murielle Bochud',\n",
       " 'Nicholas J K Breitborde',\n",
       " 'Lee Richardson',\n",
       " 'Jeremy Liu',\n",
       " 'Andrew A. Hicks',\n",
       " 'Laurence R. Meyer',\n",
       " 'Fran\\x8dois Alla',\n",
       " 'Henrik Gr\\x9anberg',\n",
       " 'Adrian Davis',\n",
       " 'Kenneth McCue',\n",
       " 'Deborah Wright',\n",
       " 'Derek A.T. Cummings',\n",
       " 'Linda Sealy',\n",
       " 'Reedik M\\x8agi',\n",
       " 'Tom Blackwell',\n",
       " 'Sergei Petrovich Ermakov',\n",
       " 'James Torrance',\n",
       " 'Christina Xu',\n",
       " 'Suzanne van Sommeren',\n",
       " 'Kristin Ardlie',\n",
       " 'John Spertus',\n",
       " 'David A. Wheeler',\n",
       " 'Cindy Forest',\n",
       " 'N Tavernarakis',\n",
       " 'Yunxin Fu',\n",
       " 'John S. Scheiffelin',\n",
       " 'Julio C Campuzano',\n",
       " 'Paola Brambilla',\n",
       " 'Weidong Le',\n",
       " 'Achim Berthele',\n",
       " 'Bjarke Feenstra',\n",
       " 'Hui Jiang',\n",
       " 'Thomas W. Scott',\n",
       " 'Jeff P MacKeigan',\n",
       " 'Dinorah Gonz\\x87lez-Castell',\n",
       " 'Gyorgy Szabadkai',\n",
       " 'Raj Kumar',\n",
       " 'Craig B Thompson',\n",
       " 'Anthony H V Schapira',\n",
       " 'Poravuth Yi',\n",
       " 'Daniel H Geschwind',\n",
       " 'Aiden P Corvin',\n",
       " 'Belinda K Lloyd',\n",
       " 'Gil A. McVean (Principal Investigator) (Co-Chair)',\n",
       " 'Luigi Maiuri',\n",
       " 'Richard D. Schulick',\n",
       " 'Bernd Timmermann',\n",
       " 'Tanja B. Grammer',\n",
       " 'Paul Flicek (Principal Investigator)',\n",
       " 'Cleusa P Ferri',\n",
       " 'Galt P. Barber',\n",
       " 'Mikhail Kimelman',\n",
       " 'Majken K Jensen',\n",
       " 'Mark Caulfield',\n",
       " 'Lucile Espert',\n",
       " 'Michisuke Yuzaki',\n",
       " 'Gary D Grant',\n",
       " 'Martha M Monick',\n",
       " 'Rita Khusainova',\n",
       " 'Nicholas W Wood',\n",
       " 'Michael Spencer Chapman',\n",
       " 'Cigdem Eser',\n",
       " 'Rebecca Woodmansey',\n",
       " 'Lesley Jones',\n",
       " 'Fr\\x8ed\\x8eric B Piel',\n",
       " 'Johannes Schumacher',\n",
       " 'Charles Kooperberg',\n",
       " 'Jianmin Wu',\n",
       " 'Xiaowei Zhan',\n",
       " 'Isabela M Bensenor',\n",
       " 'Liqun Qi',\n",
       " 'Lisette C.P.G.M. de Groot',\n",
       " 'Gunnar Sigurdsson',\n",
       " 'Kinnari S Murthy',\n",
       " 'Saverio Minucci',\n",
       " 'Fr\\x8ed\\x8eric Luciano',\n",
       " 'David B. Badesch',\n",
       " 'Carlos Iribarren',\n",
       " 'Andrea Pedroza',\n",
       " 'Gerd-J\\x9arg Rauch',\n",
       " 'Ana Maria Suzuki',\n",
       " 'Benchawan Vihokhern',\n",
       " 'Ben A. Oostra',\n",
       " 'Z\\x9fbeyde Ersan-\\x86r\\x9fn',\n",
       " 'Dong-Hou Kim',\n",
       " 'E H Cheng',\n",
       " 'Luca Benetti',\n",
       " 'Alex S.F. Doney',\n",
       " 'Loukas Moutsianas',\n",
       " 'Andrew Steer',\n",
       " 'Jaana Suvisaari',\n",
       " 'JianLi Wang',\n",
       " 'Athena Hadjixenofontos',\n",
       " 'Blake Thomson',\n",
       " 'Stephen G. Landt',\n",
       " 'Jouke-Jan Hottenga',\n",
       " 'Mono Pirun',\n",
       " 'Adnan M Durrani',\n",
       " 'Tatiana Foroud',\n",
       " 'Fabiola Mejia-Rodriguez',\n",
       " 'Crispin T. Hiley',\n",
       " 'Jos\\x8e A. Guerra-Assun\\x8d\\x8bo',\n",
       " 'Xuedi Ma',\n",
       " 'M. Kirby',\n",
       " 'Theo Vos',\n",
       " 'Carit ler Moo',\n",
       " 'Samuel Liju',\n",
       " 'Xiaodong Fang',\n",
       " 'Charles J Woodrow',\n",
       " 'Michael E. Goddard',\n",
       " 'Joseph Vitti',\n",
       " 'Kurt Straif',\n",
       " 'John Kurhanewicz',\n",
       " 'Joshua G Schraiber',\n",
       " 'Simon R. Harris',\n",
       " 'D.R. Jones',\n",
       " 'Jun Liu',\n",
       " 'Taylor Young',\n",
       " 'Charles Cook',\n",
       " 'Merc\\x8f Boada',\n",
       " 'Max F Rothschild',\n",
       " 'Ivy Shiue',\n",
       " 'Fioravante De Sapio',\n",
       " 'Claudio Schneider',\n",
       " 'Stefania Beghelli',\n",
       " 'Stephen L Hauser',\n",
       " 'Maurice Giroud',\n",
       " 'Ivica Letunic',\n",
       " 'Nancy L Heard-Costa',\n",
       " 'Martina M\\x9fller-Nurasyid',\n",
       " 'Tjeerd van Staa',\n",
       " 'Kelley M Faber',\n",
       " 'Toshihiro Tanaka',\n",
       " 'M. J. Daly',\n",
       " 'Andrea Werdecker',\n",
       " 'Ann Progulske-Fox',\n",
       " 'John Macleod',\n",
       " 'Linda Partridge',\n",
       " 'Kim D Finley',\n",
       " 'Rene S Kahn',\n",
       " 'Amy J Swift',\n",
       " 'C A Pope',\n",
       " 'J. K. Pritchard',\n",
       " 'Anthony D Woolf',\n",
       " 'Carl Abelardo Antonio',\n",
       " 'Terena James',\n",
       " 'Ana Cristina Vargas',\n",
       " 'P. Jankowski',\n",
       " 'Jorge Escobedo',\n",
       " 'Christopher S. Pepin',\n",
       " 'Fabio Macciardi',\n",
       " 'Wing H. Wong',\n",
       " 'Anna Roca',\n",
       " 'Claire Mokrysz',\n",
       " 'S. Sullivan',\n",
       " 'Jane Rogers',\n",
       " 'Frans L. Moll',\n",
       " 'Stacey Gabriel',\n",
       " 'Stefan Herms',\n",
       " 'Kamolrat Silamut',\n",
       " 'Peixiang Ni',\n",
       " 'Ayellet V Segr\\x8f',\n",
       " 'Jennifer L Moran',\n",
       " 'Lucinda Fulton',\n",
       " 'Boon-Huat Bay',\n",
       " 'Bruce Taylor',\n",
       " 'Wim Van Hul',\n",
       " 'Thomas Farkas',\n",
       " 'Brigitte Galliot',\n",
       " 'Margot Robinson',\n",
       " 'Jin Yu',\n",
       " 'Qiongqing Wang',\n",
       " 'David Haussler (Principal Investigator)',\n",
       " 'Dieter B Wildenauer',\n",
       " 'Robert Freedman',\n",
       " 'Nelson Ruiz-Opazo',\n",
       " 'A. Brown',\n",
       " 'D. Wood',\n",
       " 'Sol J. Katzman',\n",
       " 'Cheng Huang',\n",
       " 'Svati H Shah',\n",
       " 'Lyle J Palmer',\n",
       " 'Roberto Tchio Talongwa',\n",
       " 'Ian Douglas',\n",
       " 'Anna Smith',\n",
       " 'Emily Dansereau',\n",
       " 'Loic Yengo',\n",
       " 'Peter Kellman',\n",
       " 'Nataliya Sharopova',\n",
       " 'Fraser P Coxon',\n",
       " 'Eun-Kee Park',\n",
       " 'Lisa Boatman',\n",
       " 'Nirmala Pandeya',\n",
       " 'Gargi Dayama',\n",
       " 'Pedro A. Perez-Mancera',\n",
       " 'Alexis Christoforides',\n",
       " 'Matthias Barann',\n",
       " 'Yang Li',\n",
       " 'Kimberley D Chambert',\n",
       " 'Seth Redmond',\n",
       " 'Guo Li',\n",
       " 'Chia-Yi Kuan',\n",
       " 'Erica Leigh Slepak',\n",
       " 'Georgi K. Marinov',\n",
       " 'Dermot P McGovern',\n",
       " 'Katherine Lofgren',\n",
       " 'Nicolas JC Stapelberg',\n",
       " 'Nadine Kolas',\n",
       " 'Markku Laakso',\n",
       " 'Steven A. McCarroll (Project Leader)',\n",
       " 'Gian Maria Fimia',\n",
       " 'Mark A. DePristo (Project Leader)',\n",
       " 'Kalpana Balakrishnan',\n",
       " 'Rosario C\\x87rdenas',\n",
       " 'Matthew Stevens',\n",
       " 'Lilinaz Hazrati',\n",
       " 'Brian Lestini',\n",
       " 'Marja-Liisa Lokki',\n",
       " 'Ben Sch\\x9attker',\n",
       " 'Hector G Dantes',\n",
       " 'Jian Lin',\n",
       " 'Antoinette Lemoine',\n",
       " 'Sharon R. Grossman',\n",
       " 'Yichong Li',\n",
       " 'Keisuke Miyazawa',\n",
       " 'Laurie M Anderson',\n",
       " 'Eun-Kyoung Kim',\n",
       " 'Simone Engelender',\n",
       " 'Harsha Gunawardena',\n",
       " 'Frank Davidoff',\n",
       " 'Timothy W. Yu',\n",
       " 'Evan Laurie',\n",
       " 'Philip De Jager',\n",
       " 'J M Penninger',\n",
       " 'Michelle Beaumont',\n",
       " 'Barthelemy Kuate Defo',\n",
       " 'Themistocles L. Assimes',\n",
       " 'Xianming Deng',\n",
       " 'Yi-Hsiang Hsu',\n",
       " 'Guy Coates',\n",
       " 'Vera H M Deneer',\n",
       " 'Frank Tanser',\n",
       " 'Luz Maria Sanchez',\n",
       " 'Chunlin Xiao',\n",
       " 'Kai Ye (Principal Investigator)',\n",
       " 'Meizhen Zheng',\n",
       " 'Mario A Morken',\n",
       " 'Sydney E Ibeanusi',\n",
       " 'Chaiyaporn Suchatsoonthorn',\n",
       " 'Inke R K\\x9anig',\n",
       " 'David Feng',\n",
       " 'Ramon Corbalan',\n",
       " 'R. Hobbs',\n",
       " 'Tso-Pang Yao',\n",
       " 'J. M. Goldmann',\n",
       " 'Martine Yerle',\n",
       " 'Harry D Dawson',\n",
       " 'Denis Nash',\n",
       " 'Martin Schalling',\n",
       " 'Andrew J Halayko',\n",
       " 'M. Ridwan Amode',\n",
       " 'Elena M Turek',\n",
       " 'Kirsty Ambridge',\n",
       " 'Peter Str\\x8clfors',\n",
       " 'Imad M Tleyjeh',\n",
       " 'Hiroshi Sakagami',\n",
       " 'Julio C Monta\\x96ez Hernandez',\n",
       " 'Bruna Gigante',\n",
       " 'Jong-Young Lee',\n",
       " 'Jane S. Kaye',\n",
       " 'P. Guan',\n",
       " 'Myaing M. Nyunt',\n",
       " 'Wanjuan Yang',\n",
       " 'Flora Jay',\n",
       " 'Steven D Colan',\n",
       " 'Ratchadaporn Runcharoen',\n",
       " 'Jed D Blore',\n",
       " 'Benjamin S Pickard',\n",
       " 'Mar\\x92a F M\\x8endez Baggi',\n",
       " 'Emma M Quinn',\n",
       " 'Khin Lin',\n",
       " 'Charles Lee (Principal Investigator)',\n",
       " 'Frans Van de Werf',\n",
       " 'Ji-Young Lee',\n",
       " 'Robert C. Kaplan',\n",
       " 'Thomas R Insel',\n",
       " 'Irina Pulyakhina',\n",
       " 'Ankit Maroo',\n",
       " 'Mark S. Guyer',\n",
       " 'L. Qi',\n",
       " 'Tien Yin Wong',\n",
       " 'M. T. Moser',\n",
       " 'Markus Bauer',\n",
       " 'Esteban G. Burchard (Principal Investigator)',\n",
       " 'Zamin Iqbal',\n",
       " 'T. Lappalainen',\n",
       " 'Susan L Slager',\n",
       " 'Cheryl J. Briggs',\n",
       " 'Ania Korszun',\n",
       " 'Jacqueline E Shea',\n",
       " 'David Ovelleiro',\n",
       " 'Sin\\x8ead M. Langan',\n",
       " 'Leslie Mallinger',\n",
       " 'P Vandenabeele',\n",
       " 'Zulfiqar Bhutta',\n",
       " 'Urban Osby',\n",
       " 'Anderson M. Winkler',\n",
       " 'Jonathan Brown',\n",
       " 'Jae-Ho Cheong',\n",
       " 'J. Monlong',\n",
       " 'B D Dynlacht',\n",
       " 'Alvis Brazma',\n",
       " 'Peter E.H. Schwarz',\n",
       " 'Peter J Allen',\n",
       " 'Renata Micha',\n",
       " 'Sahr M. Gevao',\n",
       " 'Jongdae Lee',\n",
       " 'J. A. Stamatoyannopoulos',\n",
       " 'Elaine M Dennison',\n",
       " 'Laurent Le Cam',\n",
       " 'Alexander L Richards',\n",
       " 'J Wouter Jukema',\n",
       " 'Esben Agerbo',\n",
       " 'Gary Walters',\n",
       " 'Rita Guerreiro',\n",
       " 'John A. Hardy',\n",
       " 'Amanda Rapp',\n",
       " 'Natasja M van Schoor',\n",
       " 'Jennifer L Harrow',\n",
       " 'Yohannes Kinfu',\n",
       " 'Peter A Holmans',\n",
       " 'Mohamed Hsairi',\n",
       " 'Dipan Bose',\n",
       " 'Jonathan R Carapetis',\n",
       " 'Emma Gray',\n",
       " 'Philip Rosenstiel',\n",
       " 'Ryan E. Poplin',\n",
       " 'Monika Komorowska',\n",
       " 'Christopher J Groves',\n",
       " 'Annette Peters',\n",
       " 'Jeroen P. Saeij',\n",
       " 'Harald Stenmark',\n",
       " 'Tiinamaija Tuomi',\n",
       " 'Albert Hofman',\n",
       " 'David Skuse',\n",
       " 'Tati S Warouw',\n",
       " 'Hanneke Basart',\n",
       " 'Richard Rance',\n",
       " 'Abbas Ali Mahdi',\n",
       " 'Ichizo Nishino',\n",
       " 'Felix R. Day',\n",
       " 'Jayanta Debnath',\n",
       " 'Alain Bitton',\n",
       " 'Jeffrey A Haspel',\n",
       " 'Miriam H Meisler',\n",
       " 'Ross C. Hardison',\n",
       " 'Catherine N Hall',\n",
       " 'Ran Blekhman',\n",
       " 'Leonard H Van den Berg',\n",
       " 'Russell A. Poldrack',\n",
       " 'Simon White',\n",
       " 'M. Sammeth',\n",
       " 'Amanda Pain',\n",
       " 'Benedicte A Lie',\n",
       " 'Chris Hawkey',\n",
       " 'Lindsay L. Waite',\n",
       " 'Prudence Mutowo-Muellenet',\n",
       " 'Peter P Pramstaller',\n",
       " 'R. Cifkova',\n",
       " 'Henry N Ginsberg',\n",
       " 'Louisa Degenhardt',\n",
       " 'Sajjad ur Rahman',\n",
       " 'Donald B. Smith',\n",
       " 'Zemin Ning',\n",
       " 'Yoon-A Kang',\n",
       " 'Benjamin Raeder',\n",
       " 'Jennifer E Below',\n",
       " 'Stephen S Lim',\n",
       " 'Wei Lu',\n",
       " 'Subhra K. Biswas',\n",
       " 'W G Wood',\n",
       " 'Yoshihide Hayashizaki',\n",
       " 'Sophie Palmer',\n",
       " 'Cristina Sisu',\n",
       " 'Jefferson Traebert',\n",
       " 'Stefanie P\\x9aggeler',\n",
       " 'Irwin Jungreis',\n",
       " 'Sarah Wulf',\n",
       " 'Brant Wong',\n",
       " 'Hiroshi Yatsuya',\n",
       " 'John C. McGrath',\n",
       " 'Rafael Perera',\n",
       " 'Shirlee Wohl',\n",
       " 'Antonella Mulas',\n",
       " 'Timothy W Yu',\n",
       " 'Jose M. Gonzalez',\n",
       " 'Dan L Nicolae',\n",
       " 'Troy W. Whitfield',\n",
       " 'Andrea Sboner',\n",
       " 'Donna Muzny',\n",
       " 'Claudine Berr',\n",
       " 'Harvey Whiteford',\n",
       " 'Michael C. Wendl',\n",
       " 'Thomas Kocher',\n",
       " 'Lucas Carvajal',\n",
       " 'Calli Latimer',\n",
       " 'Uday S. Evani',\n",
       " 'Elena Maestrini',\n",
       " 'Subra Kugathasan',\n",
       " 'Jeremy Hobart',\n",
       " 'Paul W Franks',\n",
       " 'Elise A. Feingold',\n",
       " 'Thomas Frederick Willems',\n",
       " 'John Wrobel',\n",
       " 'Alexander Kolevzon',\n",
       " 'Andrea Ganna',\n",
       " 'Horng-Dar Wang',\n",
       " 'Baramey Sam',\n",
       " 'Aroon D Hingorani',\n",
       " 'Andrew A Hicks',\n",
       " 'Cristina Menni',\n",
       " 'Sena Karachanak-Yankova',\n",
       " 'Michael Eberle',\n",
       " 'James M Reecy',\n",
       " 'Jerome I. Rotter',\n",
       " 'Lizhi Cao',\n",
       " 'Bryan K Phillips',\n",
       " 'Niccolo Bolli',\n",
       " 'Adam D Briggs',\n",
       " 'Manuel Serrano',\n",
       " 'Vyacheslav Amstislavskiy',\n",
       " 'Giulia Baldini',\n",
       " 'Bertrand Draguez',\n",
       " 'Huizhou Fan',\n",
       " 'Salvador Villalpando',\n",
       " 'Fiona Kogera',\n",
       " 'Kaire Innos',\n",
       " 'Majed Masoud Asad',\n",
       " 'Anita L. DeStefano',\n",
       " 'Rebecca Phillips',\n",
       " 'Omry Koren',\n",
       " 'Asif Chinwalla',\n",
       " 'Heidi Stoeckl',\n",
       " 'Ishminder K Kooner',\n",
       " 'Matthew Webster',\n",
       " 'Alicia EB Lawrynowicz',\n",
       " 'Omonwunmi Omoniwa',\n",
       " 'Amiran Gamkrelidze',\n",
       " 'Gregory Hannon',\n",
       " 'Lars Barregard',\n",
       " 'Valerie Schneider',\n",
       " 'Stian Knappskog',\n",
       " 'Vishwajit Nimgaonkar',\n",
       " 'James P Di Santo',\n",
       " 'Nancy Lopez',\n",
       " 'Chihiro Sasakawa',\n",
       " 'Howard S Fox',\n",
       " 'Lisette Stolk',\n",
       " 'Christine Beiswanger',\n",
       " 'Junsoo Park',\n",
       " 'Rohini Mathur',\n",
       " 'Felicity C Jones',\n",
       " 'Xi Luo',\n",
       " 'David M Sabatini',\n",
       " 'Steven P. Wilder',\n",
       " 'Charlie Steward',\n",
       " 'Jan Hendrik Richardus',\n",
       " 'Celine Chen',\n",
       " 'Mark B. Gerstein (Principal Investigator)',\n",
       " 'David N. Cooper',\n",
       " 'Elizabeth J Rossin',\n",
       " 'Roza Blagieva',\n",
       " 'Shaun Purcell',\n",
       " 'Olivia Spleiss',\n",
       " 'Jennifer L. Moran',\n",
       " 'James M Anderson',\n",
       " 'Ritsert C Jansen',\n",
       " 'Vasiliy V Vlassov',\n",
       " 'Carl A Anderson',\n",
       " 'Esther Lizano',\n",
       " 'Hendrik-Jan Megens',\n",
       " 'Richard Burnett',\n",
       " 'David Ellinghaus',\n",
       " 'Heng Li',\n",
       " 'Melissa Reding',\n",
       " 'Paul B Fisher',\n",
       " 'Arthur W Musk',\n",
       " 'Christopher V Plowe',\n",
       " 'Emily S. Humphrey',\n",
       " 'Willem A Nolen',\n",
       " 'Maria C Roccheri',\n",
       " 'Johannes Kettunen',\n",
       " 'Susan Walker',\n",
       " 'Andrea Richardson',\n",
       " 'Megan A Bohensky',\n",
       " 'Richard A Lockshin',\n",
       " 'Hisashi Ashida',\n",
       " 'Juan R Sanabria',\n",
       " 'Nizar Drou',\n",
       " 'Weijie Li',\n",
       " 'Ramyani Gupta',\n",
       " 'John Tower',\n",
       " 'Richard Mayeux',\n",
       " 'Maria Hipolito',\n",
       " 'Kevin M. Bowling',\n",
       " 'Chad Nusbaum',\n",
       " 'John Peden',\n",
       " 'Madhusudan Gujral',\n",
       " 'Christine Allen',\n",
       " 'Rong Cheng',\n",
       " 'Konrad Pesudovs',\n",
       " 'Zhe Su',\n",
       " 'Jacqueline Chrast',\n",
       " 'Cristen Willer',\n",
       " 'Maria E Figueiredo-Pereira',\n",
       " 'Federica Esposito',\n",
       " 'Amy Chiang',\n",
       " 'Lee Timms',\n",
       " 'Qing Jiang',\n",
       " 'Hongchi Jiang',\n",
       " 'Sergij Goerdt',\n",
       " 'Cinnamon S Bloss',\n",
       " 'J\\x9frgen C Schmidt',\n",
       " 'Francis Gerry R Fowkes',\n",
       " 'Jinyan Huang',\n",
       " 'Awoke Misganaw',\n",
       " 'Jonathan Wood',\n",
       " 'Pierre Golstein',\n",
       " 'Joshua W Knowles',\n",
       " 'Nancy Pedersen',\n",
       " 'Melissa Greven',\n",
       " 'Roger P. Alexander',\n",
       " 'Catherine Michaud',\n",
       " 'Gianfranco Spalletta',\n",
       " 'Berit Johansen',\n",
       " 'Alan L James',\n",
       " 'Jenny Link',\n",
       " 'Debasish Sinha',\n",
       " 'Olushayo Olu',\n",
       " 'Christina M. Lill',\n",
       " 'Timo E Saaristo',\n",
       " 'Pekka Jousilahti',\n",
       " 'Weihua Guan',\n",
       " 'James Robb',\n",
       " 'Nipun Kakkar',\n",
       " 'David N. Cooper (Principal Investigator)',\n",
       " 'Eric Hudson',\n",
       " 'Lijia Ma',\n",
       " 'Lindsay Ramage',\n",
       " 'A. H. Undale',\n",
       " 'Adnane Sellam',\n",
       " 'Catherine Rivoire',\n",
       " 'Juan L Iovanna',\n",
       " 'Amanda J. Bennett',\n",
       " 'Georgia Xiromerisiou',\n",
       " 'Stephen Searle',\n",
       " 'Sergey P Ermakov',\n",
       " 'Conrad Iyegbe',\n",
       " 'Y. Marcus',\n",
       " 'Mark I. McCarthy',\n",
       " 'Mantong Zhao',\n",
       " 'Laura Nisenbaum',\n",
       " 'Peter V. Kharchenko',\n",
       " 'Wendy Holmes',\n",
       " 'Alexander Hayward',\n",
       " 'Stacy J Caillier',\n",
       " 'D Adam',\n",
       " 'Bin Zhang',\n",
       " 'Bas J M Peters',\n",
       " 'Gyun Min Lee',\n",
       " 'Jeremy Hall',\n",
       " 'P.W. Gething',\n",
       " 'Goncalo R Abecasis',\n",
       " 'Chi-Ming Che',\n",
       " 'David W Haas',\n",
       " 'Amartya Sanyal',\n",
       " 'Frederique A Jacquerioz',\n",
       " 'Mohammed I Albittar',\n",
       " 'Susanne Hoefels',\n",
       " 'Gina M Peloso',\n",
       " 'Kedede Deribe',\n",
       " 'Peter Burney',\n",
       " 'Marek Majdan',\n",
       " 'Alagurevathi Jayakumar',\n",
       " 'Britt Kilian',\n",
       " 'Alan Tracey',\n",
       " 'Michael Kay',\n",
       " 'Christine Bird',\n",
       " 'Karin S. Kassahn',\n",
       " 'Paola Capelli',\n",
       " 'C Borner',\n",
       " 'Asa K Hedman',\n",
       " 'G. E. Korzeniewski',\n",
       " 'Giuseppe Zamboni',\n",
       " 'Daniel Dicker',\n",
       " 'Lauren Robertson',\n",
       " 'Robert G Weintraub',\n",
       " 'V. Nizet',\n",
       " 'Antigone S Dimas',\n",
       " 'Noel Burtt',\n",
       " 'Lauren Dyer',\n",
       " 'Rob Desalle',\n",
       " 'Elhadj Ibrahima Bah',\n",
       " 'Steven K Backues',\n",
       " 'Lars Wallentin',\n",
       " 'A. Scott Muerhoff',\n",
       " 'Alex Bateman',\n",
       " 'Paolo Maria Rossini',\n",
       " 'Timoth\\x8fe Flutre',\n",
       " 'Bertrand Fontaine',\n",
       " 'Aroon D. Hingorani',\n",
       " 'Meifang Tang',\n",
       " 'Christine A. Iacobuzio-Donahue',\n",
       " 'Laura Masi',\n",
       " 'Peggy P Chiang',\n",
       " 'Goodarz Danaei',\n",
       " 'Zhi-Qiang Du',\n",
       " 'Dinh Truong Nguyen',\n",
       " 'Katie Marchbank',\n",
       " 'Naomi R Wray',\n",
       " 'Stefano Schiaffino',\n",
       " 'Kelsey Pierce',\n",
       " 'Wen Fung Leong',\n",
       " 'Takahiko Akematsu',\n",
       " 'Sin\\x8ead B. Chapman',\n",
       " 'Hugues Roest Crollius',\n",
       " 'Ghazala Mirza',\n",
       " 'Reyna A Guti\\x8errez',\n",
       " 'Chea Nguon',\n",
       " 'Lih-Shen Chin',\n",
       " 'Timothy J Steiner',\n",
       " 'Mo Ballal',\n",
       " 'Ruth Gilderthorp',\n",
       " 'Jeyaraj Durai Pandian',\n",
       " 'Evan E. Eichler',\n",
       " 'L. G. Biesecker',\n",
       " 'Denis Mey Bout',\n",
       " 'M. Mosavel',\n",
       " 'Fran\\x8doise Benoit-Vical',\n",
       " 'Karl Gertow',\n",
       " 'Eliezer M. Van Allen',\n",
       " 'Miaoxin Li',\n",
       " 'Christian Behrends',\n",
       " 'Pau Pastor',\n",
       " 'Bert Brunekreef',\n",
       " 'Xuejun Wang',\n",
       " 'Lynne R. Wilkens',\n",
       " 'Adrienne Hunt',\n",
       " 'Aleksandra Wojtas',\n",
       " 'Andres Metspalu',\n",
       " 'Laura Lossi',\n",
       " 'Brian Risk',\n",
       " 'Ebru Goncu',\n",
       " 'Jeffrey A Lieberman',\n",
       " 'Ariella Cohain',\n",
       " 'Kasia Stepniewska',\n",
       " 'Xiao Nong Zou',\n",
       " 'Steve Buia',\n",
       " 'Guohong Deng',\n",
       " 'Clarence K Zhang',\n",
       " 'Wolfgang Maier',\n",
       " 'Nicola B Hamilton',\n",
       " 'Audrey Bonaventure',\n",
       " 'Jesse A. Stevenson',\n",
       " 'Katherine I. Fisher-Aylor',\n",
       " 'Tim A Dolbeare',\n",
       " 'David Mittelman',\n",
       " 'Sean R Eddy',\n",
       " 'David Cohen',\n",
       " 'Kristen Delwiche',\n",
       " 'Qibin Li',\n",
       " 'Pamela Sklar',\n",
       " 'Morten Mattingsdal',\n",
       " 'Charles D Parry',\n",
       " 'Glen Liddell Mola',\n",
       " 'Sayed Saidul Alam',\n",
       " 'C. Wolpert',\n",
       " 'Alysa E Doyle',\n",
       " 'Anders Lundmark',\n",
       " 'Maria-Gloria Bas\\x87\\x96ez',\n",
       " 'Pamela Whittaker',\n",
       " 'Manickam Chidambaram',\n",
       " 'Andrea Mechelli',\n",
       " 'Barbara Franke',\n",
       " 'Huanming Yang',\n",
       " 'Munir A Al-Zeer',\n",
       " 'Panu M Jaakkola',\n",
       " 'Olli T. Raitakari',\n",
       " 'Steven P Wilder',\n",
       " 'David Elliott',\n",
       " 'Christophe Tzourio',\n",
       " 'Gregory J. Hannon',\n",
       " 'Ye Yin',\n",
       " 'P Meier',\n",
       " 'Konstantinos Stroumpoulis',\n",
       " 'Chun-Feng Liu',\n",
       " 'Jacques S. Beckmann',\n",
       " 'Conall H Watson',\n",
       " 'James Stalker',\n",
       " 'Lauren Griffin',\n",
       " 'Elizabeth L Wilder',\n",
       " 'International Multiple Sclerosis Genetics Consortium',\n",
       " 'Allan Kermode',\n",
       " 'Marco Sandri',\n",
       " 'Jeremy A Miller',\n",
       " 'Igor Nenadic',\n",
       " 'E. Avezov',\n",
       " 'Manual Rivas',\n",
       " 'Helen Davies',\n",
       " 'J M Hardwick',\n",
       " 'Elly Hiby',\n",
       " 'Takashi Kadowaki',\n",
       " 'Candace Guiducci',\n",
       " 'Sarah K. Meadows',\n",
       " 'Hugh S Markus',\n",
       " 'Caroline M Nievergelt',\n",
       " 'Xiao Ou Shu',\n",
       " 'Kelly Quek',\n",
       " 'Apurva Narechania',\n",
       " 'Q. Long',\n",
       " 'Detelina Grozeva',\n",
       " 'Elin Grundberg',\n",
       " 'Laurence Ma',\n",
       " 'Mark O Collins',\n",
       " 'Alize Ferrari',\n",
       " 'Yong Zhao',\n",
       " 'Ditte Demontis',\n",
       " 'Martine De Vos',\n",
       " 'Marc Maillard',\n",
       " 'Anna K K\\x8ahler',\n",
       " 'Sharad Kumar',\n",
       " 'David R Haynor',\n",
       " 'Julian Maller',\n",
       " 'Colin Kingswood',\n",
       " 'Zbynek Bozdech',\n",
       " 'Mary F Feitosa',\n",
       " 'Gaurav Jain',\n",
       " 'Nguyen Thanh Thuy-Nhien',\n",
       " 'Anthony Cox',\n",
       " 'Yung-Feng Liao',\n",
       " 'Po-Ru Loh',\n",
       " 'Chakib Nejjari',\n",
       " 'A Jeremy Willsey',\n",
       " 'John Garner',\n",
       " 'Carolyn C Gotay',\n",
       " 'Erik L. L. Sonnhammer',\n",
       " 'V Ashutosh Rao',\n",
       " 'Ho Jeong Kwon',\n",
       " 'Alan R Sanders',\n",
       " 'Ken-ichi Isobe',\n",
       " 'Malene Hansen',\n",
       " 'Beryl E Swanson',\n",
       " 'Zackery L Riley',\n",
       " 'P.J. Campbell',\n",
       " 'T Vanden Berghe',\n",
       " 'Tom Fleming',\n",
       " 'John J Shacka',\n",
       " 'Nicholas J Wareham',\n",
       " 'Yashoda Sharma',\n",
       " 'Maria T Diaz-Meco',\n",
       " 'Paul Weston',\n",
       " 'Frank Lafont',\n",
       " 'Tiziana Lembo',\n",
       " 'H-U Simon',\n",
       " 'Robert C Bast',\n",
       " 'Henri Bernardi',\n",
       " 'Moussa Doumbia',\n",
       " 'Shannon Takala-Harrison',\n",
       " 'Aimo Ruokonen',\n",
       " 'Mall Leinsalu',\n",
       " 'Matthew C Keller',\n",
       " 'John Tate',\n",
       " 'James Kinross',\n",
       " 'Linda L. Grasfeder',\n",
       " 'Sharon Gorski',\n",
       " 'Sylviane Muller',\n",
       " 'Timothy Howes',\n",
       " 'D. Bradbury',\n",
       " 'The International Endogene Consortium',\n",
       " 'Nancy L. Pedersen',\n",
       " 'Psychiatric Genomics Consortium',\n",
       " 'Jing-Pu Zhang',\n",
       " 'Glen Threadgold',\n",
       " 'L. K. Barker',\n",
       " 'Lisa Jones',\n",
       " 'Kristin Siggeirsdottir',\n",
       " 'Gytis Dudas',\n",
       " 'Chelsea A Liddell',\n",
       " 'William A Weiss',\n",
       " 'Pengpeng Ye',\n",
       " 'Anjali Gupta-Hinch',\n",
       " 'Y. Meng',\n",
       " 'Philip J. Stephens',\n",
       " 'Roberta A Gottlieb',\n",
       " 'Daniel Casey',\n",
       " 'Thomas Lumley',\n",
       " 'Constanza Vallenas',\n",
       " 'Mehrdad Alirezaei',\n",
       " 'Rupam Tripura',\n",
       " 'Mark Cosentino',\n",
       " 'Yekaterina Vaydylevich',\n",
       " 'Eva Gronroos',\n",
       " 'Clare Watson',\n",
       " 'Hongzhi Cao',\n",
       " 'Brian Kunkle',\n",
       " 'Catalina Medina',\n",
       " 'Derek W Morris',\n",
       " 'Astradur B Hreidarsson',\n",
       " 'Virpi Lepp\\x8a',\n",
       " 'Constance D Pond',\n",
       " 'Bobby-Joe Breitkreutz',\n",
       " 'Nicola Mulder',\n",
       " 'Vafa Rahimi-Movaghar',\n",
       " 'Ben Schoettker',\n",
       " 'Thomas Quertermous',\n",
       " 'Lorenzo Monasta',\n",
       " 'Peder E. Z. Larson',\n",
       " 'Jeffrey Haessler',\n",
       " 'Miguel Perez-Enciso',\n",
       " 'Taehoon Chun',\n",
       " 'Robert P Dellavalle',\n",
       " 'Meera Venkatesan',\n",
       " 'Lon Phan',\n",
       " 'Samia Alhabib',\n",
       " 'Kaio Kitazato',\n",
       " 'DC Rao',\n",
       " 'Steven G. Heitner',\n",
       " 'Ivo G Gut',\n",
       " 'Shunhei Yamashina',\n",
       " 'Linda S. Adair',\n",
       " 'David St Clair',\n",
       " 'Tianming Lan',\n",
       " 'Shane J. Neph',\n",
       " 'Nancy G Buccola',\n",
       " 'Andres Moreno-Estrada',\n",
       " 'Daphna Levinson',\n",
       " 'Adebayo Anjorin',\n",
       " 'Toshimasa Yamauchi',\n",
       " 'Carol Churcher',\n",
       " 'John D Rioux',\n",
       " 'Jordi Clarimon',\n",
       " 'Tania G S\\x87nchez-Pimienta',\n",
       " 'Mary F Davis',\n",
       " 'Suzannah J Bumpstead',\n",
       " 'Nicholas Graetz',\n",
       " 'Hamish McWilliam',\n",
       " 'Panniyammakal Jeemon',\n",
       " 'Gretchen Birbeck',\n",
       " 'Laurent Coudeville',\n",
       " 'Dave Bridges',\n",
       " 'Chang Hwa Jung',\n",
       " 'Andrea Antal',\n",
       " 'Mark D. Shriver (Principal Investigator)',\n",
       " 'Adam C Naj',\n",
       " 'Craig T Miller',\n",
       " 'Francesco Paolo Casale',\n",
       " 'Richard C Trembath',\n",
       " 'Mathias Gorski',\n",
       " 'Kaija Puura',\n",
       " 'Vanessa K Wong',\n",
       " 'Z.B. Andrews',\n",
       " 'Frank A Sinicrope',\n",
       " 'Richard H Duerr',\n",
       " 'Nhung T Nguyen',\n",
       " 'Simon J Brooker',\n",
       " 'Katya Shackelford',\n",
       " 'Hyung-Lae Kim',\n",
       " 'T Scott Stroup',\n",
       " 'Darren K Griffin',\n",
       " 'W Murray Thomson',\n",
       " 'Jeremy Humphris',\n",
       " 'Chieh-Hsi Wu',\n",
       " ...}"
      ]
     },
     "execution_count": 8,
     "metadata": {},
     "output_type": "execute_result"
    }
   ],
   "source": [
    "names = set()\n",
    "for auth_list in author_lists:\n",
    "    for auth in auth_list:\n",
    "        if len(auth) > 2:\n",
    "            names.add(auth)\n",
    "names"
   ]
  },
  {
   "cell_type": "code",
   "execution_count": 9,
   "metadata": {
    "ExecuteTime": {
     "end_time": "2018-09-30T17:44:09.029258Z",
     "start_time": "2018-09-30T17:44:09.016877Z"
    }
   },
   "outputs": [
    {
     "data": {
      "text/plain": [
       "9268"
      ]
     },
     "execution_count": 9,
     "metadata": {},
     "output_type": "execute_result"
    }
   ],
   "source": [
    "len(names)"
   ]
  },
  {
   "cell_type": "markdown",
   "metadata": {},
   "source": [
    "#### Create the function\n",
    "\n",
    "Wrap that up in a function:"
   ]
  },
  {
   "cell_type": "code",
   "execution_count": 10,
   "metadata": {
    "ExecuteTime": {
     "end_time": "2018-09-30T17:44:09.062339Z",
     "start_time": "2018-09-30T17:44:09.043042Z"
    }
   },
   "outputs": [],
   "source": [
    "def load_pubs(csv, pmid_column='PMID', author_column='Authors', encoding='latin1'):\n",
    "    \"\"\"Takes input CSV plus options, returns a pandas Series of PMIDs linked to lists of authors\"\"\"\n",
    "    sample_pubs = pd.read_csv(file_path, index_col='PMID', encoding='latin1')\n",
    "    author_lists = sample_pubs['Authors']\n",
    "    author_lists = author_lists.str.split(\"; \")\n",
    "    return(author_lists)"
   ]
  },
  {
   "cell_type": "code",
   "execution_count": 11,
   "metadata": {
    "ExecuteTime": {
     "end_time": "2018-09-30T17:44:09.087592Z",
     "start_time": "2018-09-30T17:44:09.076806Z"
    }
   },
   "outputs": [],
   "source": [
    "def extract_authors(author_lists, method=\"all\"):\n",
    "    names = set()\n",
    "    for auth_list in author_lists:\n",
    "        if method == \"all\":\n",
    "            auth_list = auth_list\n",
    "        elif method ==\"ends\":\n",
    "            auth_list = [auth_list[0], auth_list[-1]]\n",
    "        elif method ==\"first\":\n",
    "            auth_list = [auth_list[0]]\n",
    "        elif method ==\"last\":\n",
    "            auth_list = [auth_list[-1]]\n",
    "        \n",
    "        for auth in auth_list:\n",
    "            if len(auth) > 2:\n",
    "                names.add(auth)\n",
    "    return(names)"
   ]
  },
  {
   "cell_type": "code",
   "execution_count": 12,
   "metadata": {
    "ExecuteTime": {
     "end_time": "2018-09-30T17:44:09.117837Z",
     "start_time": "2018-09-30T17:44:09.091913Z"
    }
   },
   "outputs": [],
   "source": [
    "sample_author_lists = load_pubs(os.path.join(DATA_DIR, 'sample_pubs.csv'))"
   ]
  },
  {
   "cell_type": "code",
   "execution_count": 13,
   "metadata": {
    "ExecuteTime": {
     "end_time": "2018-09-30T17:44:09.136395Z",
     "start_time": "2018-09-30T17:44:09.120351Z"
    }
   },
   "outputs": [
    {
     "data": {
      "text/plain": [
       "['Seth Flaxman',\n",
       " 'Rahul Gupta',\n",
       " 'Stalin E Ewoigbokhan',\n",
       " 'Richard Humbert',\n",
       " 'Shih-Yi Lin',\n",
       " 'Darren Ware',\n",
       " 'Jordana T. Bell',\n",
       " 'Janet Seeley',\n",
       " 'Francesca Demarchi',\n",
       " 'Catherine Snow']"
      ]
     },
     "execution_count": 13,
     "metadata": {},
     "output_type": "execute_result"
    }
   ],
   "source": [
    "all_names = extract_authors(sample_author_lists, method=\"all\")\n",
    "list(all_names)[0:10] # preview them"
   ]
  },
  {
   "cell_type": "code",
   "execution_count": 14,
   "metadata": {
    "ExecuteTime": {
     "end_time": "2018-09-30T17:44:09.147391Z",
     "start_time": "2018-09-30T17:44:09.141506Z"
    }
   },
   "outputs": [],
   "source": [
    "first_authors = extract_authors(sample_author_lists, method=\"first\")"
   ]
  },
  {
   "cell_type": "code",
   "execution_count": 15,
   "metadata": {
    "ExecuteTime": {
     "end_time": "2018-09-30T17:44:09.159419Z",
     "start_time": "2018-09-30T17:44:09.150485Z"
    }
   },
   "outputs": [
    {
     "data": {
      "text/plain": [
       "['Bryan Howie',\n",
       " 'Ed Bullmore',\n",
       " 'Patrick F Sullivan',\n",
       " 'Katie Hampson',\n",
       " 'Ludmil B. Alexandrov',\n",
       " 'Ulf Ekelund',\n",
       " 'Serena Nik-Zainal',\n",
       " 'Karol Estrada',\n",
       " 'Gordon D. Brown',\n",
       " 'Sarah Djebali']"
      ]
     },
     "execution_count": 15,
     "metadata": {},
     "output_type": "execute_result"
    }
   ],
   "source": [
    "list(first_authors)[0:10]"
   ]
  },
  {
   "cell_type": "markdown",
   "metadata": {},
   "source": [
    "## Construct all pairs"
   ]
  },
  {
   "cell_type": "markdown",
   "metadata": {},
   "source": [
    "### Aside: let's get an intitution for the maths at scale"
   ]
  },
  {
   "cell_type": "markdown",
   "metadata": {},
   "source": [
    "Note that we need to generate this many pairs (where $k=2$ and $n=n_{names}$:\n",
    "\n",
    "$$\\frac{n!}{k!(n-k)!}$$\n",
    "\n",
    "- 18ms to run on 100 samples\n",
    "- 242ms to run on 1000 samples\n",
    "- 20s to run on 5000 samples\n",
    "- 10,000 never finished on my machine"
   ]
  },
  {
   "cell_type": "code",
   "execution_count": 16,
   "metadata": {
    "ExecuteTime": {
     "end_time": "2018-09-30T17:44:09.172620Z",
     "start_time": "2018-09-30T17:44:09.163116Z"
    }
   },
   "outputs": [],
   "source": [
    "# lets see what the maths looks like\n",
    "def ncr(n, r):\n",
    "    r = min(r, n-r)\n",
    "    numer = functools.reduce(op.mul, range(n, n-r, -1), 1)\n",
    "    denom = functools.reduce(op.mul, range(1, r+1), 1)\n",
    "    return numer//denom"
   ]
  },
  {
   "cell_type": "code",
   "execution_count": 17,
   "metadata": {
    "ExecuteTime": {
     "end_time": "2018-09-30T17:44:09.863378Z",
     "start_time": "2018-09-30T17:44:09.176003Z"
    }
   },
   "outputs": [
    {
     "data": {
      "text/plain": [
       "<matplotlib.axes._subplots.AxesSubplot at 0x11adffeb8>"
      ]
     },
     "execution_count": 17,
     "metadata": {},
     "output_type": "execute_result"
    },
    {
     "data": {
      "image/png": "[encoded data removed]",
      "text/plain": [
       "<Figure size 432x288 with 1 Axes>"
      ]
     },
     "metadata": {
      "needs_background": "light"
     },
     "output_type": "display_data"
    }
   ],
   "source": [
    "df = pd.DataFrame(columns=['x', 'y'])\n",
    "for x in range(0, 10000, 100):\n",
    "    df = df.append({'x': x, 'y': ncr(x, 2)}, ignore_index=True)\n",
    "df.plot(x=\"x\", y=\"y\")"
   ]
  },
  {
   "cell_type": "markdown",
   "metadata": {},
   "source": [
    "### Aside over: generate pairs"
   ]
  },
  {
   "cell_type": "code",
   "execution_count": 18,
   "metadata": {
    "ExecuteTime": {
     "end_time": "2018-09-30T17:44:09.928332Z",
     "start_time": "2018-09-30T17:44:09.867284Z"
    }
   },
   "outputs": [],
   "source": [
    "names_list = list(names)\n",
    "names_list = names_list[0:101]\n",
    "pair_list = []\n",
    "\n",
    "while len(names_list) > 1:\n",
    "    current_name = names_list.pop()\n",
    "    for name in names_list:\n",
    "        pair_list.append((current_name, name))"
   ]
  },
  {
   "cell_type": "code",
   "execution_count": 19,
   "metadata": {
    "ExecuteTime": {
     "end_time": "2018-09-30T17:44:09.941056Z",
     "start_time": "2018-09-30T17:44:09.932073Z"
    }
   },
   "outputs": [
    {
     "data": {
      "text/plain": [
       "5050"
      ]
     },
     "execution_count": 19,
     "metadata": {},
     "output_type": "execute_result"
    }
   ],
   "source": [
    "len(pair_list)"
   ]
  },
  {
   "cell_type": "code",
   "execution_count": 20,
   "metadata": {
    "ExecuteTime": {
     "end_time": "2018-09-30T17:44:09.957623Z",
     "start_time": "2018-09-30T17:44:09.945961Z"
    }
   },
   "outputs": [
    {
     "data": {
      "text/plain": [
       "[('Tuuli Lappalainen', 'Seth Flaxman'),\n",
       " ('Tuuli Lappalainen', 'Rahul Gupta'),\n",
       " ('Tuuli Lappalainen', 'Stalin E Ewoigbokhan'),\n",
       " ('Tuuli Lappalainen', 'Richard Humbert'),\n",
       " ('Tuuli Lappalainen', 'Shih-Yi Lin')]"
      ]
     },
     "execution_count": 20,
     "metadata": {},
     "output_type": "execute_result"
    }
   ],
   "source": [
    "pair_list[0:5]"
   ]
  },
  {
   "cell_type": "markdown",
   "metadata": {},
   "source": [
    "#### Create the function"
   ]
  },
  {
   "cell_type": "code",
   "execution_count": 21,
   "metadata": {
    "ExecuteTime": {
     "end_time": "2018-09-30T17:44:09.974402Z",
     "start_time": "2018-09-30T17:44:09.962956Z"
    }
   },
   "outputs": [],
   "source": [
    "def generate_pairs(names):\n",
    "    names_list = names.copy()\n",
    "    pair_list = []\n",
    "    while len(names_list) > 1:\n",
    "        current_name = names_list.pop()\n",
    "        for name in names_list:\n",
    "            pair_list.append((current_name, name))\n",
    "    return(pair_list)"
   ]
  },
  {
   "cell_type": "code",
   "execution_count": 22,
   "metadata": {
    "ExecuteTime": {
     "end_time": "2018-09-30T17:44:09.992827Z",
     "start_time": "2018-09-30T17:44:09.979182Z"
    }
   },
   "outputs": [],
   "source": [
    "sample_pairs = generate_pairs(first_authors)"
   ]
  },
  {
   "cell_type": "code",
   "execution_count": 23,
   "metadata": {
    "ExecuteTime": {
     "end_time": "2018-09-30T17:44:10.025893Z",
     "start_time": "2018-09-30T17:44:10.001319Z"
    }
   },
   "outputs": [
    {
     "data": {
      "text/plain": [
       "[('Bryan Howie', 'Ed Bullmore'),\n",
       " ('Bryan Howie', 'Patrick F Sullivan'),\n",
       " ('Bryan Howie', 'Katie Hampson'),\n",
       " ('Bryan Howie', 'Ludmil B. Alexandrov'),\n",
       " ('Bryan Howie', 'Ulf Ekelund')]"
      ]
     },
     "execution_count": 23,
     "metadata": {},
     "output_type": "execute_result"
    }
   ],
   "source": [
    "sample_pairs[0:5]"
   ]
  },
  {
   "cell_type": "markdown",
   "metadata": {},
   "source": [
    "## Fuzzy matching"
   ]
  },
  {
   "cell_type": "code",
   "execution_count": 24,
   "metadata": {
    "ExecuteTime": {
     "end_time": "2018-09-30T17:44:10.064271Z",
     "start_time": "2018-09-30T17:44:10.033197Z"
    }
   },
   "outputs": [
    {
     "data": {
      "text/plain": [
       "13861"
      ]
     },
     "execution_count": 24,
     "metadata": {},
     "output_type": "execute_result"
    }
   ],
   "source": [
    "len(sample_pairs)"
   ]
  },
  {
   "cell_type": "code",
   "execution_count": 25,
   "metadata": {
    "ExecuteTime": {
     "end_time": "2018-09-30T17:44:10.254557Z",
     "start_time": "2018-09-30T17:44:10.071990Z"
    }
   },
   "outputs": [],
   "source": [
    "pair_scores = [[pair[0], pair[1], fuzz.ratio(pair[0], pair[1])] for pair in sample_pairs]"
   ]
  },
  {
   "cell_type": "code",
   "execution_count": 26,
   "metadata": {
    "ExecuteTime": {
     "end_time": "2018-09-30T17:44:10.273909Z",
     "start_time": "2018-09-30T17:44:10.256936Z"
    }
   },
   "outputs": [],
   "source": [
    "df2 = pd.DataFrame(pair_scores, columns=['name1', 'name2', 'score'])"
   ]
  },
  {
   "cell_type": "code",
   "execution_count": 27,
   "metadata": {
    "ExecuteTime": {
     "end_time": "2018-09-30T17:44:10.284853Z",
     "start_time": "2018-09-30T17:44:10.277165Z"
    }
   },
   "outputs": [],
   "source": [
    "df2['above_threshold'] = df2.score > 50"
   ]
  },
  {
   "cell_type": "code",
   "execution_count": 28,
   "metadata": {
    "ExecuteTime": {
     "end_time": "2018-09-30T17:44:10.310868Z",
     "start_time": "2018-09-30T17:44:10.288485Z"
    }
   },
   "outputs": [
    {
     "data": {
      "text/html": [
       "<div>\n",
       "<style scoped>\n",
       "    .dataframe tbody tr th:only-of-type {\n",
       "        vertical-align: middle;\n",
       "    }\n",
       "\n",
       "    .dataframe tbody tr th {\n",
       "        vertical-align: top;\n",
       "    }\n",
       "\n",
       "    .dataframe thead th {\n",
       "        text-align: right;\n",
       "    }\n",
       "</style>\n",
       "<table border=\"1\" class=\"dataframe\">\n",
       "  <thead>\n",
       "    <tr style=\"text-align: right;\">\n",
       "      <th></th>\n",
       "      <th>name1</th>\n",
       "      <th>name2</th>\n",
       "      <th>score</th>\n",
       "      <th>above_threshold</th>\n",
       "    </tr>\n",
       "  </thead>\n",
       "  <tbody>\n",
       "    <tr>\n",
       "      <th>1910</th>\n",
       "      <td>Paul Flicek</td>\n",
       "      <td>A. Patrcia Bento</td>\n",
       "      <td>29</td>\n",
       "      <td>False</td>\n",
       "    </tr>\n",
       "    <tr>\n",
       "      <th>9628</th>\n",
       "      <td>Kyaw M Tun</td>\n",
       "      <td>Katherine S. Button</td>\n",
       "      <td>41</td>\n",
       "      <td>False</td>\n",
       "    </tr>\n",
       "    <tr>\n",
       "      <th>9864</th>\n",
       "      <td>Peter J. Murray</td>\n",
       "      <td>Nicholas J. Croucher</td>\n",
       "      <td>34</td>\n",
       "      <td>False</td>\n",
       "    </tr>\n",
       "    <tr>\n",
       "      <th>2673</th>\n",
       "      <td>Nicholas J Kassebaum</td>\n",
       "      <td>Cristen J. Willer</td>\n",
       "      <td>32</td>\n",
       "      <td>False</td>\n",
       "    </tr>\n",
       "    <tr>\n",
       "      <th>2169</th>\n",
       "      <td>Susannah J Salter</td>\n",
       "      <td>Juan Antonio Vizcano</td>\n",
       "      <td>32</td>\n",
       "      <td>False</td>\n",
       "    </tr>\n",
       "  </tbody>\n",
       "</table>\n",
       "</div>"
      ],
      "text/plain": [
       "                     name1                  name2  score  above_threshold\n",
       "1910           Paul Flicek      A. Patrcia Bento     29            False\n",
       "9628            Kyaw M Tun    Katherine S. Button     41            False\n",
       "9864       Peter J. Murray   Nicholas J. Croucher     34            False\n",
       "2673  Nicholas J Kassebaum      Cristen J. Willer     32            False\n",
       "2169     Susannah J Salter  Juan Antonio Vizcano     32            False"
      ]
     },
     "execution_count": 28,
     "metadata": {},
     "output_type": "execute_result"
    }
   ],
   "source": [
    "df2.sample(5)"
   ]
  },
  {
   "cell_type": "markdown",
   "metadata": {},
   "source": [
    "#### Create the function"
   ]
  },
  {
   "cell_type": "code",
   "execution_count": 29,
   "metadata": {
    "ExecuteTime": {
     "end_time": "2018-09-30T17:44:10.325842Z",
     "start_time": "2018-09-30T17:44:10.314420Z"
    }
   },
   "outputs": [],
   "source": [
    "def fuzzy_match(pairs, threshold=80):\n",
    "    \"\"\"takes pairs of names, returns a dataframe of pairs with fuzzy scores\"\"\"\n",
    "    pair_scores = [[pair[0], pair[1], fuzz.ratio(pair[0], pair[1])] for pair in pairs]\n",
    "    df = pd.DataFrame(pair_scores, columns=['name1', 'name2', 'score'])\n",
    "    df['above_threshold'] = (df['score'] >= threshold)\n",
    "    return df"
   ]
  },
  {
   "cell_type": "code",
   "execution_count": 30,
   "metadata": {
    "ExecuteTime": {
     "end_time": "2018-09-30T17:44:10.522420Z",
     "start_time": "2018-09-30T17:44:10.332403Z"
    }
   },
   "outputs": [
    {
     "data": {
      "text/html": [
       "<div>\n",
       "<style scoped>\n",
       "    .dataframe tbody tr th:only-of-type {\n",
       "        vertical-align: middle;\n",
       "    }\n",
       "\n",
       "    .dataframe tbody tr th {\n",
       "        vertical-align: top;\n",
       "    }\n",
       "\n",
       "    .dataframe thead th {\n",
       "        text-align: right;\n",
       "    }\n",
       "</style>\n",
       "<table border=\"1\" class=\"dataframe\">\n",
       "  <thead>\n",
       "    <tr style=\"text-align: right;\">\n",
       "      <th></th>\n",
       "      <th>name1</th>\n",
       "      <th>name2</th>\n",
       "      <th>score</th>\n",
       "      <th>above_threshold</th>\n",
       "    </tr>\n",
       "  </thead>\n",
       "  <tbody>\n",
       "    <tr>\n",
       "      <th>2576</th>\n",
       "      <td>Nicholas J Kassebaum</td>\n",
       "      <td>Nicholas J. Kassebaum</td>\n",
       "      <td>98</td>\n",
       "      <td>True</td>\n",
       "    </tr>\n",
       "    <tr>\n",
       "      <th>3069</th>\n",
       "      <td>Stephen P.H. Alexander</td>\n",
       "      <td>Stephen Ph Alexander</td>\n",
       "      <td>90</td>\n",
       "      <td>True</td>\n",
       "    </tr>\n",
       "    <tr>\n",
       "      <th>11898</th>\n",
       "      <td>Juan Antonio Vizcano</td>\n",
       "      <td>Juan A Vizcano</td>\n",
       "      <td>83</td>\n",
       "      <td>True</td>\n",
       "    </tr>\n",
       "  </tbody>\n",
       "</table>\n",
       "</div>"
      ],
      "text/plain": [
       "                        name1                  name2  score  above_threshold\n",
       "2576     Nicholas J Kassebaum  Nicholas J. Kassebaum     98             True\n",
       "3069   Stephen P.H. Alexander   Stephen Ph Alexander     90             True\n",
       "11898   Juan Antonio Vizcano        Juan A Vizcano     83             True"
      ]
     },
     "execution_count": 30,
     "metadata": {},
     "output_type": "execute_result"
    }
   ],
   "source": [
    "sample_scores = fuzzy_match(sample_pairs)\n",
    "sample_scores.query(\"above_threshold\")"
   ]
  },
  {
   "cell_type": "markdown",
   "metadata": {},
   "source": [
    "### Save this to Excel for editing"
   ]
  },
  {
   "cell_type": "code",
   "execution_count": null,
   "metadata": {},
   "outputs": [],
   "source": []
  },
  {
   "cell_type": "markdown",
   "metadata": {},
   "source": [
    "### Load from Excel for manually verified / denied matches"
   ]
  },
  {
   "cell_type": "code",
   "execution_count": null,
   "metadata": {},
   "outputs": [],
   "source": []
  },
  {
   "cell_type": "markdown",
   "metadata": {},
   "source": [
    "### Create lists\n",
    "\n",
    "Families of names that should be treated as equivalent. Check to see if either of current names is any existing list, if not then create one. If it is, append it to that particular list."
   ]
  },
  {
   "cell_type": "code",
   "execution_count": 31,
   "metadata": {
    "ExecuteTime": {
     "end_time": "2018-09-30T17:44:10.536407Z",
     "start_time": "2018-09-30T17:44:10.526666Z"
    }
   },
   "outputs": [],
   "source": [
    "families = []\n",
    "name_pairs = sample_scores.query(\"above_threshold\")"
   ]
  },
  {
   "cell_type": "code",
   "execution_count": 32,
   "metadata": {
    "ExecuteTime": {
     "end_time": "2018-09-30T17:44:10.561402Z",
     "start_time": "2018-09-30T17:44:10.539771Z"
    }
   },
   "outputs": [
    {
     "data": {
      "text/html": [
       "<div>\n",
       "<style scoped>\n",
       "    .dataframe tbody tr th:only-of-type {\n",
       "        vertical-align: middle;\n",
       "    }\n",
       "\n",
       "    .dataframe tbody tr th {\n",
       "        vertical-align: top;\n",
       "    }\n",
       "\n",
       "    .dataframe thead th {\n",
       "        text-align: right;\n",
       "    }\n",
       "</style>\n",
       "<table border=\"1\" class=\"dataframe\">\n",
       "  <thead>\n",
       "    <tr style=\"text-align: right;\">\n",
       "      <th></th>\n",
       "      <th>name1</th>\n",
       "      <th>name2</th>\n",
       "    </tr>\n",
       "  </thead>\n",
       "  <tbody>\n",
       "    <tr>\n",
       "      <th>2576</th>\n",
       "      <td>Nicholas J Kassebaum</td>\n",
       "      <td>Nicholas J. Kassebaum</td>\n",
       "    </tr>\n",
       "    <tr>\n",
       "      <th>3069</th>\n",
       "      <td>Stephen P.H. Alexander</td>\n",
       "      <td>Stephen Ph Alexander</td>\n",
       "    </tr>\n",
       "    <tr>\n",
       "      <th>11898</th>\n",
       "      <td>Juan Antonio Vizcano</td>\n",
       "      <td>Juan A Vizcano</td>\n",
       "    </tr>\n",
       "  </tbody>\n",
       "</table>\n",
       "</div>"
      ],
      "text/plain": [
       "                        name1                  name2\n",
       "2576     Nicholas J Kassebaum  Nicholas J. Kassebaum\n",
       "3069   Stephen P.H. Alexander   Stephen Ph Alexander\n",
       "11898   Juan Antonio Vizcano        Juan A Vizcano"
      ]
     },
     "execution_count": 32,
     "metadata": {},
     "output_type": "execute_result"
    }
   ],
   "source": [
    "name_pairs.filter(items=[\"name1\", \"name2\"])"
   ]
  },
  {
   "cell_type": "code",
   "execution_count": 33,
   "metadata": {
    "ExecuteTime": {
     "end_time": "2018-09-30T17:44:10.583435Z",
     "start_time": "2018-09-30T17:44:10.567537Z"
    }
   },
   "outputs": [
    {
     "data": {
      "text/plain": [
       "[['Nicholas J Kassebaum', 'Nicholas J. Kassebaum'],\n",
       " ['Stephen P.H. Alexander', 'Stephen Ph Alexander'],\n",
       " ['Juan Antonio Vizca\\x92no', 'Juan A Vizca\\x92no']]"
      ]
     },
     "execution_count": 33,
     "metadata": {},
     "output_type": "execute_result"
    }
   ],
   "source": [
    "all_pairs = [[row.name1, row.name2] for index, row in name_pairs.iterrows()]\n",
    "all_pairs"
   ]
  },
  {
   "cell_type": "code",
   "execution_count": 34,
   "metadata": {
    "ExecuteTime": {
     "end_time": "2018-09-30T17:44:10.596654Z",
     "start_time": "2018-09-30T17:44:10.587258Z"
    }
   },
   "outputs": [],
   "source": [
    "for pair in all_pairs:\n",
    "    for name in pair:\n",
    "        # check if it's already in the list of families\n",
    "        # add them both to a new family if not\n",
    "        # if one of the two is already in a set, add them both\n",
    "        pass"
   ]
  },
  {
   "cell_type": "markdown",
   "metadata": {},
   "source": [
    "Then turn this in to a dict with a primary name as the key for substitutions"
   ]
  },
  {
   "cell_type": "markdown",
   "metadata": {},
   "source": [
    "### Use this to substitute original author RCR table names"
   ]
  },
  {
   "cell_type": "code",
   "execution_count": null,
   "metadata": {},
   "outputs": [],
   "source": []
  },
  {
   "cell_type": "markdown",
   "metadata": {},
   "source": [
    "### Perform calculations based on these disambiguated authors"
   ]
  },
  {
   "cell_type": "code",
   "execution_count": null,
   "metadata": {},
   "outputs": [],
   "source": []
  }
 ],
 "metadata": {
  "kernelspec": {
   "display_name": "Python 3",
   "language": "python",
   "name": "python3"
  },
  "language_info": {
   "codemirror_mode": {
    "name": "ipython",
    "version": 3
   },
   "file_extension": ".py",
   "mimetype": "text/x-python",
   "name": "python",
   "nbconvert_exporter": "python",
   "pygments_lexer": "ipython3",
   "version": "3.7.0"
  },
  "varInspector": {
   "cols": {
    "lenName": 16,
    "lenType": 16,
    "lenVar": 40
   },
   "kernels_config": {
    "python": {
     "delete_cmd_postfix": "",
     "delete_cmd_prefix": "del ",
     "library": "var_list.py",
     "varRefreshCmd": "print(var_dic_list())"
    },
    "r": {
     "delete_cmd_postfix": ") ",
     "delete_cmd_prefix": "rm(",
     "library": "var_list.r",
     "varRefreshCmd": "cat(var_dic_list()) "
    }
   },
   "types_to_exclude": [
    "module",
    "function",
    "builtin_function_or_method",
    "instance",
    "_Feature"
   ],
   "window_display": false
  }
 },
 "nbformat": 4,
 "nbformat_minor": 2
}
